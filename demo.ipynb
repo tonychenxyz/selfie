{
 "cells": [
  {
   "cell_type": "code",
   "execution_count": 1,
   "metadata": {},
   "outputs": [],
   "source": [
    "# ADDED:\n",
    "model_path = \"meta-llama/Llama-2-7b-chat-hf\" # not enough RAM or disk space for larger models"
   ]
  },
  {
   "cell_type": "code",
   "execution_count": null,
   "metadata": {},
   "outputs": [
    {
     "name": "stderr",
     "output_type": "stream",
     "text": [
      "/Users/christinearnoldt/mambaforge/envs/SelfIE/lib/python3.12/site-packages/transformers/utils/generic.py:311: UserWarning: torch.utils._pytree._register_pytree_node is deprecated. Please use torch.utils._pytree.register_pytree_node instead.\n",
      "  torch.utils._pytree._register_pytree_node(\n",
      "/Users/christinearnoldt/mambaforge/envs/SelfIE/lib/python3.12/site-packages/transformers/utils/generic.py:311: UserWarning: torch.utils._pytree._register_pytree_node is deprecated. Please use torch.utils._pytree.register_pytree_node instead.\n",
      "  torch.utils._pytree._register_pytree_node(\n"
     ]
    },
    {
     "data": {
      "application/vnd.jupyter.widget-view+json": {
       "model_id": "c9047753f93745ebab994c44082f4823",
       "version_major": 2,
       "version_minor": 0
      },
      "text/plain": [
       "Loading checkpoint shards:   0%|          | 0/2 [00:00<?, ?it/s]"
      ]
     },
     "metadata": {},
     "output_type": "display_data"
    },
    {
     "data": {
      "text/plain": [
       "LlamaForCausalLM(\n",
       "  (model): LlamaModel(\n",
       "    (embed_tokens): Embedding(32000, 4096)\n",
       "    (layers): ModuleList(\n",
       "      (0-31): 32 x LlamaDecoderLayer(\n",
       "        (self_attn): LlamaAttention(\n",
       "          (q_proj): Linear(in_features=4096, out_features=4096, bias=False)\n",
       "          (k_proj): Linear(in_features=4096, out_features=4096, bias=False)\n",
       "          (v_proj): Linear(in_features=4096, out_features=4096, bias=False)\n",
       "          (o_proj): Linear(in_features=4096, out_features=4096, bias=False)\n",
       "          (rotary_emb): LlamaRotaryEmbedding()\n",
       "        )\n",
       "        (mlp): LlamaMLP(\n",
       "          (gate_proj): Linear(in_features=4096, out_features=11008, bias=False)\n",
       "          (up_proj): Linear(in_features=4096, out_features=11008, bias=False)\n",
       "          (down_proj): Linear(in_features=11008, out_features=4096, bias=False)\n",
       "          (act_fn): SiLUActivation()\n",
       "        )\n",
       "        (input_layernorm): LlamaRMSNorm()\n",
       "        (post_attention_layernorm): LlamaRMSNorm()\n",
       "      )\n",
       "    )\n",
       "    (norm): LlamaRMSNorm()\n",
       "  )\n",
       "  (lm_head): Linear(in_features=4096, out_features=32000, bias=False)\n",
       ")"
      ]
     },
     "execution_count": 2,
     "metadata": {},
     "output_type": "execute_result"
    }
   ],
   "source": [
    "import pandas as pd\n",
    "import numpy as np\n",
    "import torch\n",
    "\n",
    "from transformers import AutoTokenizer,AutoModelForCausalLM\n",
    "\n",
    "# change device map from \"auto\" to None when using CPU\n",
    "tokenizer = AutoTokenizer.from_pretrained(model_path, device_map=None)\n",
    "\n",
    "# ADDED:\n",
    "torch.mps.empty_cache()\n",
    "torch.cuda.empty_cache()\n",
    "#\n",
    "\n",
    "# change device map from \"auto\" to None when using CPU\n",
    "model = AutoModelForCausalLM.from_pretrained(model_path, device_map=None)\n",
    "\n",
    "# ADDED:\n",
    "torch.mps.empty_cache()\n",
    "torch.cuda.empty_cache()\n",
    "\n",
    "# move to CPU (not enough GPU space)\n",
    "device = torch.device(\"cpu\")\n",
    "model.to(device)\n",
    "#"
   ]
  },
  {
   "cell_type": "code",
   "execution_count": 3,
   "metadata": {},
   "outputs": [
    {
     "name": "stdout",
     "output_type": "stream",
     "text": [
      "[1, 518, 25580, 29962] 4\n",
      "[1, 518, 25580, 21540, 29871] 5\n",
      "[1, 518, 25580, 21540, 903, 29871] 6\n",
      "[1, 518, 25580, 21540, 903, 903, 29871] 7\n",
      "[1, 518, 25580, 21540, 903, 903, 903, 29871] 8\n"
     ]
    }
   ],
   "source": [
    "from selfie.interpret import InterpretationPrompt, interpret\n",
    "interpretation_prompt = InterpretationPrompt(tokenizer, (\"[INST]\", 0, 0, 0, 0, 0, \"[/INST] Sure, I will summarize the message:\"))\n",
    "\n",
    "# ADDED:\n",
    "torch.mps.empty_cache()\n",
    "torch.cuda.empty_cache()\n",
    "#"
   ]
  },
  {
   "cell_type": "code",
   "execution_count": 7,
   "metadata": {},
   "outputs": [
    {
     "name": "stdout",
     "output_type": "stream",
     "text": [
      "Interpreting '[INST] What's highest mountain in the world? [/INST]' with '[INST]_ _ _ _ _ [/INST] Sure, I will summarize the message:'\n",
      "all_insert_infos [{'replacing_mode': 'normalized', 'overlay_strength': 1, 'retrieve_layer': 10, 'retrieve_token': 7, 5: ([4, 5, 6, 7, 8], tensor([[[-0.1717,  0.0836, -0.0956,  ...,  0.0559,  0.0541,  0.1325],\n",
      "         [-0.1717,  0.0836, -0.0956,  ...,  0.0559,  0.0541,  0.1325],\n",
      "         [-0.1717,  0.0836, -0.0956,  ...,  0.0559,  0.0541,  0.1325],\n",
      "         [-0.1717,  0.0836, -0.0956,  ...,  0.0559,  0.0541,  0.1325],\n",
      "         [-0.1717,  0.0836, -0.0956,  ...,  0.0559,  0.0541,  0.1325]]],\n",
      "       grad_fn=<RepeatBackward0>))}, {'replacing_mode': 'normalized', 'overlay_strength': 1, 'retrieve_layer': 10, 'retrieve_token': 8, 5: ([4, 5, 6, 7, 8], tensor([[[-0.2543,  0.3470, -0.1114,  ...,  0.0471, -0.3432,  0.0043],\n",
      "         [-0.2543,  0.3470, -0.1114,  ...,  0.0471, -0.3432,  0.0043],\n",
      "         [-0.2543,  0.3470, -0.1114,  ...,  0.0471, -0.3432,  0.0043],\n",
      "         [-0.2543,  0.3470, -0.1114,  ...,  0.0471, -0.3432,  0.0043],\n",
      "         [-0.2543,  0.3470, -0.1114,  ...,  0.0471, -0.3432,  0.0043]]],\n",
      "       grad_fn=<RepeatBackward0>))}]\n"
     ]
    },
    {
     "name": "stderr",
     "output_type": "stream",
     "text": [
      "100%|██████████| 1/1 [15:16<00:00, 916.94s/it]\n"
     ]
    }
   ],
   "source": [
    "original_prompt = \"[INST] What's highest mountain in the world? [/INST]\"\n",
    "tokens_to_interpret = [(10,7), (10,8)]\n",
    "bs = 16 #originally: 2\n",
    "max_new_tokens = 20\n",
    "k = 5 #originally: 1\n",
    "\n",
    "interpretation_df = interpret(original_prompt=original_prompt, tokens_to_interpret=tokens_to_interpret, model=model, interpretation_prompt=interpretation_prompt, bs=bs, max_new_tokens=max_new_tokens, k=k, tokenizer=tokenizer)"
   ]
  },
  {
   "cell_type": "code",
   "execution_count": 8,
   "metadata": {},
   "outputs": [
    {
     "data": {
      "text/html": [
       "<div>\n",
       "<style scoped>\n",
       "    .dataframe tbody tr th:only-of-type {\n",
       "        vertical-align: middle;\n",
       "    }\n",
       "\n",
       "    .dataframe tbody tr th {\n",
       "        vertical-align: top;\n",
       "    }\n",
       "\n",
       "    .dataframe thead th {\n",
       "        text-align: right;\n",
       "    }\n",
       "</style>\n",
       "<table border=\"1\" class=\"dataframe\">\n",
       "  <thead>\n",
       "    <tr style=\"text-align: right;\">\n",
       "      <th></th>\n",
       "      <th>prompt</th>\n",
       "      <th>interpretation</th>\n",
       "      <th>layer</th>\n",
       "      <th>token</th>\n",
       "      <th>token_decoded</th>\n",
       "    </tr>\n",
       "  </thead>\n",
       "  <tbody>\n",
       "    <tr>\n",
       "      <th>0</th>\n",
       "      <td>[INST] What's highest mountain in the world? [...</td>\n",
       "      <td>\\n\\nThe message is a series of underscores, wh...</td>\n",
       "      <td>10</td>\n",
       "      <td>7</td>\n",
       "      <td>highest</td>\n",
       "    </tr>\n",
       "    <tr>\n",
       "      <th>1</th>\n",
       "      <td>[INST] What's highest mountain in the world? [...</td>\n",
       "      <td>\\n\\nThe message appears to be a series of rand...</td>\n",
       "      <td>10</td>\n",
       "      <td>8</td>\n",
       "      <td>mountain</td>\n",
       "    </tr>\n",
       "  </tbody>\n",
       "</table>\n",
       "</div>"
      ],
      "text/plain": [
       "                                              prompt  \\\n",
       "0  [INST] What's highest mountain in the world? [...   \n",
       "1  [INST] What's highest mountain in the world? [...   \n",
       "\n",
       "                                      interpretation  layer  token  \\\n",
       "0  \\n\\nThe message is a series of underscores, wh...     10      7   \n",
       "1  \\n\\nThe message appears to be a series of rand...     10      8   \n",
       "\n",
       "  token_decoded  \n",
       "0       highest  \n",
       "1      mountain  "
      ]
     },
     "execution_count": 8,
     "metadata": {},
     "output_type": "execute_result"
    }
   ],
   "source": [
    "pd.DataFrame(interpretation_df)"
   ]
  },
  {
   "cell_type": "code",
   "execution_count": 9,
   "metadata": {},
   "outputs": [
    {
     "data": {
      "text/plain": [
       "{'prompt': [\"[INST] What's highest mountain in the world? [/INST]\",\n",
       "  \"[INST] What's highest mountain in the world? [/INST]\"],\n",
       " 'interpretation': ['\\n\\nThe message is a series of underscores, which typically indicates that the message is incomplete',\n",
       "  '\\n\\nThe message appears to be a series of random characters, and there is no clear meaning or'],\n",
       " 'layer': [10, 10],\n",
       " 'token': [7, 8],\n",
       " 'token_decoded': ['highest', 'mountain']}"
      ]
     },
     "execution_count": 9,
     "metadata": {},
     "output_type": "execute_result"
    }
   ],
   "source": [
    "interpretation_df"
   ]
  }
 ],
 "metadata": {
  "kernelspec": {
   "display_name": "SelfIE",
   "language": "python",
   "name": "python3"
  },
  "language_info": {
   "codemirror_mode": {
    "name": "ipython",
    "version": 3
   },
   "file_extension": ".py",
   "mimetype": "text/x-python",
   "name": "python",
   "nbconvert_exporter": "python",
   "pygments_lexer": "ipython3",
   "version": "3.12.2"
  }
 },
 "nbformat": 4,
 "nbformat_minor": 2
}
